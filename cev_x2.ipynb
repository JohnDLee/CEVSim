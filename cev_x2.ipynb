{
 "cells": [
  {
   "cell_type": "code",
   "execution_count": 3,
   "metadata": {},
   "outputs": [],
   "source": [
    "import numpy as np\n",
    "import matplotlib.pyplot as plt\n",
    "import scipy.stats as stats\n",
    "from scipy.special import gammainc"
   ]
  },
  {
   "cell_type": "code",
   "execution_count": 4,
   "metadata": {},
   "outputs": [],
   "source": [
    "def sigma(sig_ln, F0, alpha):\n",
    "    ''' Compute sigma'''\n",
    "    return sig_ln * F0**(1-alpha)\n",
    "\n",
    "def X(F, alpha, sig):\n",
    "    ''' X transform variable '''\n",
    "    return F**(2 * (1-alpha)) / (sig**2 * (1-alpha)**2)\n",
    "\n",
    "def F_Xinv(X, alpha, sig):\n",
    "    ''' F from X'''\n",
    "    return (X * (sig**2 * (1-alpha)**2)) ** (1/(2*(1-alpha)))\n",
    "\n",
    "def delta(alpha):\n",
    "    ''' delta from alpha'''\n",
    "    return (1 - 2*alpha) / (1 - alpha)\n",
    "\n",
    "def em_CEV(T, dt, F0, alpha, sig):\n",
    "    ''' Euler scheme simulation '''\n",
    "    \n",
    "    # set up Brownian motion and t\n",
    "    t = np.arange(dt, T + dt, dt)\n",
    "    N = len(t)\n",
    "    dW=np.sqrt(dt)*np.random.randn(N)\n",
    "    \n",
    "    # init variables\n",
    "    X0 = X(F0, alpha, sig)\n",
    "    d = delta(alpha)\n",
    "    X_emC, X_em = X0, []\n",
    "    hit_zero = False\n",
    "    \n",
    "    # For all timesteps\n",
    "    for j in range(N):\n",
    "        # euler (X + XdX)=(X + X * (d*dt + 2X^(1/2)dW))\n",
    "        dX = d*dt + 2*np.sqrt(X_emC)*dW[j]\n",
    "        X_emC += dX\n",
    "        \n",
    "        # if <= 0, presumed it hit boundary of 0\n",
    "        if X_emC <= 0:\n",
    "            # fill with 0's since it is absorbed\n",
    "            X_em += [0 for i in range(N - len(X_em))]\n",
    "            hit_zero = True\n",
    "            break\n",
    "        X_em.append(X_emC)\n",
    "    \n",
    "    return X_em, hit_zero\n",
    "\n",
    "\n",
    "\n",
    "def mil_CEV(T, dt, F0, alpha, sig):\n",
    "    ''' Milstein scheme simulation '''\n",
    "    \n",
    "    # set up Brownian motion and t\n",
    "    t = np.arange(dt, T + dt, dt)\n",
    "    N = len(t)\n",
    "    dW=np.sqrt(dt)*np.random.randn(N)\n",
    "    \n",
    "    # init variables\n",
    "    X0 = X(F0, alpha, sig)\n",
    "    d = delta(alpha)\n",
    "    X_milC, X_mil = X0, []\n",
    "    hit_zero = False\n",
    "    \n",
    "    # For all timesteps\n",
    "    for j in range(N):\n",
    "        # Milstein \n",
    "        dX = d*dt + 2*np.sqrt(X_milC)*dW[j] + (dW[j]**2 - dt)\n",
    "        X_milC += dX\n",
    "        \n",
    "        # if <= 0, presumed it hit boundary of 0\n",
    "        if X_milC <= 0:\n",
    "            # fill with 0's since it is absorbed\n",
    "            X_mil += [0 for i in range(N - len(X_mil))]\n",
    "            hit_zero = True\n",
    "            break\n",
    "        X_mil.append(X_milC)\n",
    "    \n",
    "    return X_mil, hit_zero\n",
    "    \n",
    "    "
   ]
  },
  {
   "cell_type": "code",
   "execution_count": 5,
   "metadata": {},
   "outputs": [],
   "source": [
    "def analytical_C(F,K,T, alpha, sig):\n",
    "    K_tilde = X(K,alpha, sig)\n",
    "    X0 = X(F,alpha, sig)\n",
    "    C = F * (1 - stats.ncx2.cdf(x = K_tilde/T, df = 4 - delta(alpha), nc = X0/T)) - K * stats.ncx2.cdf(x = X0/T, df = 2 - delta(alpha),nc = K_tilde/T)\n",
    "    \n",
    "    return C"
   ]
  },
  {
   "cell_type": "code",
   "execution_count": 21,
   "metadata": {},
   "outputs": [
    {
     "name": "stdout",
     "output_type": "stream",
     "text": [
      "Sim Absorbed: 0.3173828125\n",
      "Ana Absorbed: 0.31731050786291415\n"
     ]
    },
    {
     "name": "stderr",
     "output_type": "stream",
     "text": [
      "100%|██████████| 1024/1024 [00:00<00:00, 1024.75it/s]"
     ]
    },
    {
     "name": "stdout",
     "output_type": "stream",
     "text": [
      "44.28051044926829\n",
      "34.28051044926829\n",
      "43.98809800804455\n"
     ]
    },
    {
     "name": "stderr",
     "output_type": "stream",
     "text": [
      "\n"
     ]
    }
   ],
   "source": [
    "from scipy.optimize import root\n",
    "import tqdm\n",
    "# Parameters\n",
    "F = 100\n",
    "alpha = 0\n",
    "sig_ln = 0.5\n",
    "T = 4\n",
    "K = 90\n",
    "# transform sig to correct dimension\n",
    "sig = sigma(sig_ln, F, alpha)\n",
    "# print(sig)\n",
    "\n",
    "# Umax\n",
    "v = delta(alpha)/2 - 1\n",
    "X0 = X(F, alpha, sig)\n",
    "# print(X0)\n",
    "Umax = gammainc(-v, X0/(2*T))\n",
    "\n",
    "# U\n",
    "s = stats.qmc.Sobol(1)\n",
    "M = 10\n",
    "N = 2**M\n",
    "U = s.random_base2(M).flatten()\n",
    "\n",
    "\n",
    "absorbed = U > Umax\n",
    "print(f\"Sim Absorbed: {np.count_nonzero(absorbed)/N}\")\n",
    "print(f\"Ana Absorbed: {1 - gammainc(-v, X0/(2*T))}\")\n",
    "\n",
    "\n",
    "XoverT = np.zeros(N)\n",
    "not_absorbed = ~absorbed\n",
    "# print(X0/T)\n",
    "def func(x, u):\n",
    "    return stats.ncx2.cdf(X0/T, df = 2 - delta(alpha), nc = x/T) - Umax + u\n",
    "for idx, u in tqdm.tqdm(enumerate(U), total = N):\n",
    "    if u > Umax:\n",
    "        continue\n",
    "    else:\n",
    "        sol = root(func, X0, args=(u))\n",
    "        XoverT[idx] = sol.x[0]\n",
    "\n",
    "X_T = XoverT\n",
    "\n",
    "# compute inverse to get F_T\n",
    "F_T = F_Xinv(X_T, alpha, sig)\n",
    "# compute C by subtracting K and taking max. Anywhere less than K is 0, otherwise F - K\n",
    "C = np.where(F_T<K, 0, F_T-K)\n",
    "P = C - (F - K)\n",
    "\n",
    "\n",
    "print(C.mean())\n",
    "print(P.mean())\n",
    "print(analytical_C(F,K,T,alpha,sig))"
   ]
  },
  {
   "cell_type": "code",
   "execution_count": 34,
   "metadata": {},
   "outputs": [
    {
     "name": "stdout",
     "output_type": "stream",
     "text": [
      "1.0\n",
      "1.0\n"
     ]
    }
   ],
   "source": [
    "print(X0/T)\n",
    "print(delta(alpha))\n",
    "f = lambda x, u: stats.ncx2.cdf(X0/T, df = 2 - delta(alpha), nc = x/T) + Umax - u"
   ]
  },
  {
   "cell_type": "code",
   "execution_count": 14,
   "metadata": {},
   "outputs": [
    {
     "name": "stdout",
     "output_type": "stream",
     "text": [
      "0.6826894921370859\n"
     ]
    }
   ],
   "source": [
    "print(Umax)"
   ]
  },
  {
   "cell_type": "code",
   "execution_count": 13,
   "metadata": {},
   "outputs": [
    {
     "name": "stdout",
     "output_type": "stream",
     "text": [
      "0.6543200481683016\n"
     ]
    }
   ],
   "source": [
    "print(u)"
   ]
  },
  {
   "cell_type": "code",
   "execution_count": 68,
   "metadata": {},
   "outputs": [],
   "source": [
    "def func(x, u):\n",
    "    return stats.ncx2.cdf(X0/T, df = 2 - delta(alpha), nc = x/T) - Umax + u"
   ]
  },
  {
   "cell_type": "code",
   "execution_count": 76,
   "metadata": {},
   "outputs": [
    {
     "data": {
      "text/plain": [
       "1.0976647153326802e-05"
      ]
     },
     "execution_count": 76,
     "metadata": {},
     "output_type": "execute_result"
    }
   ],
   "source": [
    "func(50.87, u)"
   ]
  },
  {
   "cell_type": "code",
   "execution_count": 77,
   "metadata": {},
   "outputs": [
    {
     "data": {
      "text/plain": [
       "    fjac: array([[-1.]])\n",
       "     fun: array([0.])\n",
       " message: 'The solution converged.'\n",
       "    nfev: 15\n",
       "     qtf: array([-1.30229161e-13])\n",
       "       r: array([0.00051809])\n",
       "  status: 1\n",
       " success: True\n",
       "       x: array([50.89116456])"
      ]
     },
     "execution_count": 77,
     "metadata": {},
     "output_type": "execute_result"
    }
   ],
   "source": [
    "root(func, X0, args = (u))"
   ]
  },
  {
   "cell_type": "code",
   "execution_count": 37,
   "metadata": {},
   "outputs": [
    {
     "data": {
      "text/plain": [
       "100"
      ]
     },
     "execution_count": 37,
     "metadata": {},
     "output_type": "execute_result"
    }
   ],
   "source": [
    "F"
   ]
  },
  {
   "cell_type": "code",
   "execution_count": 44,
   "metadata": {},
   "outputs": [
    {
     "data": {
      "text/plain": [
       "0.00512810285474008"
      ]
     },
     "execution_count": 44,
     "metadata": {},
     "output_type": "execute_result"
    }
   ],
   "source": [
    "\n",
    "f(10000, u)"
   ]
  },
  {
   "cell_type": "code",
   "execution_count": null,
   "metadata": {},
   "outputs": [],
   "source": []
  }
 ],
 "metadata": {
  "kernelspec": {
   "display_name": "school",
   "language": "python",
   "name": "python3"
  },
  "language_info": {
   "codemirror_mode": {
    "name": "ipython",
    "version": 3
   },
   "file_extension": ".py",
   "mimetype": "text/x-python",
   "name": "python",
   "nbconvert_exporter": "python",
   "pygments_lexer": "ipython3",
   "version": "3.8.13"
  }
 },
 "nbformat": 4,
 "nbformat_minor": 2
}
