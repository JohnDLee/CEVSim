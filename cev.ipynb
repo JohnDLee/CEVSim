{
 "cells": [
  {
   "cell_type": "code",
   "execution_count": 2,
   "metadata": {},
   "outputs": [],
   "source": [
    "import numpy as np\n",
    "import matplotlib.pyplot as plt\n",
    "import scipy.stats as stats\n",
    "from scipy.special import gammainc"
   ]
  },
  {
   "cell_type": "markdown",
   "metadata": {},
   "source": [
    "# Functions "
   ]
  },
  {
   "cell_type": "code",
   "execution_count": 3,
   "metadata": {},
   "outputs": [],
   "source": [
    "def sigma(sig_ln, F0, alpha):\n",
    "    ''' Compute sigma'''\n",
    "    return sig_ln * F0**(1-alpha)\n",
    "\n",
    "def X(F, alpha, sig):\n",
    "    ''' X transform variable '''\n",
    "    return F**(2 * (1-alpha)) / (sig**2 * (1-alpha)**2)\n",
    "\n",
    "def F_Xinv(X, alpha, sig):\n",
    "    ''' F from X'''\n",
    "    return (X * (sig**2 * (1-alpha)**2)) ** (1/(2*(1-alpha)))\n",
    "\n",
    "def delta(alpha):\n",
    "    ''' delta from alpha'''\n",
    "    return (1 - 2*alpha) / (1 - alpha)\n",
    "\n",
    "def em_CEV(T, dt, F0, alpha, sig):\n",
    "    ''' Euler scheme simulation '''\n",
    "    \n",
    "    # set up Brownian motion and t\n",
    "    t = np.arange(dt, T + dt, dt)\n",
    "    N = len(t)\n",
    "    dW=np.sqrt(dt)*np.random.randn(N)\n",
    "    \n",
    "    # init variables\n",
    "    X0 = X(F0, alpha, sig)\n",
    "    d = delta(alpha)\n",
    "    X_emC, X_em = X0, []\n",
    "    hit_zero = False\n",
    "    \n",
    "    # For all timesteps\n",
    "    for j in range(N):\n",
    "        # euler (X + XdX)=(X + X * (d*dt + 2X^(1/2)dW))\n",
    "        dX = d*dt + 2*np.sqrt(X_emC)*dW[j]\n",
    "        X_emC += dX\n",
    "        \n",
    "        # if <= 0, presumed it hit boundary of 0\n",
    "        if X_emC <= 0:\n",
    "            # fill with 0's since it is absorbed\n",
    "            X_em += [0 for i in range(N - len(X_em))]\n",
    "            hit_zero = True\n",
    "            break\n",
    "        X_em.append(X_emC)\n",
    "    \n",
    "    return X_em, hit_zero\n",
    "\n",
    "def em_CEV(T, dt, F0, sig):\n",
    "    ''' Euler scheme simulation '''\n",
    "    \n",
    "    # set up Brownian motion and t\n",
    "    t = np.arange(dt, T + dt, dt)\n",
    "    N = len(t)\n",
    "    dW=np.sqrt(dt)*np.random.randn(N)\n",
    "    \n",
    "    # init variables\n",
    "    X_emC, X_em = X0, []\n",
    "    hit_zero = False\n",
    "    \n",
    "    # For all timesteps\n",
    "    for j in range(N):\n",
    "        # euler (X + XdX)=(X + X * (d*dt + 2X^(1/2)dW))\n",
    "        dX = d*dt + 2*np.sqrt(X_emC)*dW[j]\n",
    "        X_emC += dX\n",
    "        \n",
    "        # if <= 0, presumed it hit boundary of 0\n",
    "        if X_emC <= 0:\n",
    "            # fill with 0's since it is absorbed\n",
    "            X_em += [0 for i in range(N - len(X_em))]\n",
    "            hit_zero = True\n",
    "            break\n",
    "        X_em.append(X_emC)\n",
    "    \n",
    "    return X_em, hit_zero\n",
    "\n",
    "\n",
    "def mil_CEV(T, dt, F0, alpha, sig):\n",
    "    ''' Milstein scheme simulation '''\n",
    "    \n",
    "    # set up Brownian motion and t\n",
    "    t = np.arange(dt, T + dt, dt)\n",
    "    N = len(t)\n",
    "    dW=np.sqrt(dt)*np.random.randn(N)\n",
    "    \n",
    "    # init variables\n",
    "    X0 = X(F0, alpha, sig)\n",
    "    d = delta(alpha)\n",
    "    X_milC, X_mil = X0, []\n",
    "    hit_zero = False\n",
    "    \n",
    "    # For all timesteps\n",
    "    for j in range(N):\n",
    "        # Milstein \n",
    "        dX = d*dt + 2*np.sqrt(X_milC)*dW[j] + 2*(dW[j]**2 - dt)\n",
    "        X_milC += dX\n",
    "        \n",
    "        # if <= 0, presumed it hit boundary of 0\n",
    "        if X_milC <= 0:\n",
    "            # fill with 0's since it is absorbed\n",
    "            X_mil += [0 for i in range(N - len(X_mil))]\n",
    "            hit_zero = True\n",
    "            break\n",
    "        X_mil.append(X_milC)\n",
    "    \n",
    "    return X_mil, hit_zero\n",
    "    \n",
    "    "
   ]
  },
  {
   "cell_type": "markdown",
   "metadata": {},
   "source": [
    "# CEV Process for K = 90, 100, 110"
   ]
  },
  {
   "cell_type": "code",
   "execution_count": 132,
   "metadata": {},
   "outputs": [
    {
     "name": "stdout",
     "output_type": "stream",
     "text": [
      "E[C] = 39.20364786952627, STD[C] = 0.6985665361447374\n",
      "E[P] = 38.69580214169203, STD[P] = 0.41111455517833256\n",
      "Simulated Absorbed Ratio = 0.1848\n",
      "Analytical Absorbed Ratio = 0.19357461811489696\n"
     ]
    }
   ],
   "source": [
    "\n",
    "# parameters\n",
    "dt = 2**(-4)\n",
    "F = 100\n",
    "alpha = 0\n",
    "sig_ln = 0.5\n",
    "T = 4\n",
    "K = 100\n",
    "# transform sig to correct dimension\n",
    "sig = sigma(sig_ln, F, alpha)\n",
    "\n",
    "# Monte Carlo of CEV Process\n",
    "N = 10**(4)\n",
    "t = np.arange(dt, T + dt, dt)\n",
    "X_T = np.zeros(N)\n",
    "num_absorbed = 0\n",
    "for i in range(N):\n",
    "    em, hz = mil_CEV(T, dt, F, alpha, sig)\n",
    "    num_absorbed += int(hz)\n",
    "    # save final X values\n",
    "    X_T[i] = em[-1]\n",
    "    # plt.plot(t, em, alpha=0.5)\n",
    "\n",
    "# compute inverse to get F\n",
    "F_T = F_Xinv(X_T, alpha, sig)\n",
    "# compute C by subtracting K and taking max. Anywhere less than K is 0, otherwise F - K\n",
    "C = np.where(F_T<K, 0, F_T-K)\n",
    "P = C - (F_T - K)\n",
    "# print(C)\n",
    "# print(C[np.argwhere(C).flatten()])\n",
    "print(f\"E[C] = {C.mean()}, STD[C] = {C.std()/(N**(1/2))}\")\n",
    "print(f\"E[P] = {P.mean()}, STD[P] = {P.std()/(N**(1/2))}\")\n",
    "print(f\"Simulated Absorbed Ratio = {num_absorbed/N}\")\n",
    "print(f\"Analytical Absorbed Ratio = {1-gammainc(-(delta(alpha)/2 - 1), X(F, alpha, sig)/(2*T))}\")\n",
    "# plt.ylim(0, 10)\n",
    "# plt.show()"
   ]
  },
  {
   "cell_type": "code",
   "execution_count": 84,
   "metadata": {},
   "outputs": [],
   "source": [
    "def analytical_C(F,K,T, alpha, sig):\n",
    "    K_tilde = X(K,alpha, sig)\n",
    "    X0 = X(F,alpha, sig)\n",
    "    v = delta(alpha)/2 - 1\n",
    "    C = F * (1 - stats.ncx2.cdf(x = K_tilde/T, df = 4 - delta(alpha), nc = X0/T)) - K * stats.ncx2.cdf(x = X0/T, df = 2 - delta(alpha),nc = K_tilde/T)\n",
    "    \n",
    "    return C\n",
    "    # C = np.where(C < 0, 0, C)\n",
    "    # C_idx = np.argwhere(C).flatten()\n",
    "    # print(C[C_idx].mean())\n",
    "    # print(C.mean())\n"
   ]
  },
  {
   "cell_type": "code",
   "execution_count": 88,
   "metadata": {},
   "outputs": [
    {
     "name": "stdout",
     "output_type": "stream",
     "text": [
      "100 -2 0.5 500000.0 4 100\n",
      "34.42927514295155 34.42927514295155\n"
     ]
    }
   ],
   "source": [
    "F = 100\n",
    "alpha = -2\n",
    "sig_ln = 0.5\n",
    "T = 4\n",
    "K = 100\n",
    "# transform sig to correct dimension\n",
    "sig = sigma(sig_ln, F, alpha)\n",
    "print(F, alpha, sig_ln, sig, T, K)\n",
    "ana_C = analytical_C(F, K, T, alpha, sig)\n",
    "ana_P = ana_C + K - F\n",
    "print(ana_C, ana_P)"
   ]
  },
  {
   "cell_type": "code",
   "execution_count": 24,
   "metadata": {},
   "outputs": [
    {
     "name": "stdout",
     "output_type": "stream",
     "text": [
      "[1. 1. 1. ... 1. 1. 1.]\n"
     ]
    }
   ],
   "source": [
    "F = 100\n",
    "alpha = 0\n",
    "sig_ln = 0.5\n",
    "T = 4\n",
    "K = 100\n",
    "# transform sig to correct dimension\n",
    "sig = sigma(sig_ln, F, alpha)\n",
    "\n",
    "v = delta(alpha)/2 - 1\n",
    "X0 = X(F, alpha, sig)\n",
    "\n",
    "\n",
    "N = 10**4\n",
    "U = np.random.uniform(size=N)\n",
    "Umax = gammainc(-v, X0/(2*T))\n",
    "invalid = U > Umax\n",
    "XT = np.ones(N)\n",
    "XT[invalid] = 0\n",
    "valid = ~invalid\n",
    "\n",
    "XT[valid] = 1-stats.ncx2.isf(X0/T, df = 2 - delta(alpha), nc = Umax - U[valid])\n",
    "\n",
    "print(XT)"
   ]
  },
  {
   "cell_type": "code",
   "execution_count": null,
   "metadata": {},
   "outputs": [],
   "source": []
  },
  {
   "cell_type": "code",
   "execution_count": null,
   "metadata": {},
   "outputs": [],
   "source": []
  },
  {
   "cell_type": "code",
   "execution_count": null,
   "metadata": {},
   "outputs": [],
   "source": []
  },
  {
   "cell_type": "code",
   "execution_count": 123,
   "metadata": {},
   "outputs": [
    {
     "ename": "KeyboardInterrupt",
     "evalue": "",
     "output_type": "error",
     "traceback": [
      "\u001b[0;31m---------------------------------------------------------------------------\u001b[0m",
      "\u001b[0;31mKeyboardInterrupt\u001b[0m                         Traceback (most recent call last)",
      "\u001b[1;32m/Users/johnlee/Documents/Notre Dame/Schoolwork/Semester 7/SSA/Project/ito.ipynb Cell 7\u001b[0m in \u001b[0;36m<cell line: 17>\u001b[0;34m()\u001b[0m\n\u001b[1;32m     <a href='vscode-notebook-cell:/Users/johnlee/Documents/Notre%20Dame/Schoolwork/Semester%207/SSA/Project/ito.ipynb#X14sZmlsZQ%3D%3D?line=15'>16</a>\u001b[0m counter \u001b[39m=\u001b[39m \u001b[39m0\u001b[39m\n\u001b[1;32m     <a href='vscode-notebook-cell:/Users/johnlee/Documents/Notre%20Dame/Schoolwork/Semester%207/SSA/Project/ito.ipynb#X14sZmlsZQ%3D%3D?line=16'>17</a>\u001b[0m \u001b[39mfor\u001b[39;00m i \u001b[39min\u001b[39;00m \u001b[39mrange\u001b[39m(N):\n\u001b[0;32m---> <a href='vscode-notebook-cell:/Users/johnlee/Documents/Notre%20Dame/Schoolwork/Semester%207/SSA/Project/ito.ipynb#X14sZmlsZQ%3D%3D?line=17'>18</a>\u001b[0m     em, hit_zero \u001b[39m=\u001b[39m em_CEV(T, dt, F, alpha, sig)\n\u001b[1;32m     <a href='vscode-notebook-cell:/Users/johnlee/Documents/Notre%20Dame/Schoolwork/Semester%207/SSA/Project/ito.ipynb#X14sZmlsZQ%3D%3D?line=18'>19</a>\u001b[0m     \u001b[39mif\u001b[39;00m hit_zero:\n\u001b[1;32m     <a href='vscode-notebook-cell:/Users/johnlee/Documents/Notre%20Dame/Schoolwork/Semester%207/SSA/Project/ito.ipynb#X14sZmlsZQ%3D%3D?line=19'>20</a>\u001b[0m         \u001b[39mcontinue\u001b[39;00m\n",
      "\u001b[1;32m/Users/johnlee/Documents/Notre Dame/Schoolwork/Semester 7/SSA/Project/ito.ipynb Cell 7\u001b[0m in \u001b[0;36mem_CEV\u001b[0;34m(T, dt, F0, alpha, sig)\u001b[0m\n\u001b[1;32m     <a href='vscode-notebook-cell:/Users/johnlee/Documents/Notre%20Dame/Schoolwork/Semester%207/SSA/Project/ito.ipynb#X14sZmlsZQ%3D%3D?line=34'>35</a>\u001b[0m X_emC \u001b[39m+\u001b[39m\u001b[39m=\u001b[39m dX\n\u001b[1;32m     <a href='vscode-notebook-cell:/Users/johnlee/Documents/Notre%20Dame/Schoolwork/Semester%207/SSA/Project/ito.ipynb#X14sZmlsZQ%3D%3D?line=36'>37</a>\u001b[0m \u001b[39m# if <= 0, presumed it hit boundary of 0\u001b[39;00m\n\u001b[0;32m---> <a href='vscode-notebook-cell:/Users/johnlee/Documents/Notre%20Dame/Schoolwork/Semester%207/SSA/Project/ito.ipynb#X14sZmlsZQ%3D%3D?line=37'>38</a>\u001b[0m \u001b[39mif\u001b[39;00m X_emC \u001b[39m<\u001b[39;49m\u001b[39m=\u001b[39;49m \u001b[39m0\u001b[39;49m:\n\u001b[1;32m     <a href='vscode-notebook-cell:/Users/johnlee/Documents/Notre%20Dame/Schoolwork/Semester%207/SSA/Project/ito.ipynb#X14sZmlsZQ%3D%3D?line=38'>39</a>\u001b[0m     \u001b[39m# fill with 0's since it is absorbed\u001b[39;00m\n\u001b[1;32m     <a href='vscode-notebook-cell:/Users/johnlee/Documents/Notre%20Dame/Schoolwork/Semester%207/SSA/Project/ito.ipynb#X14sZmlsZQ%3D%3D?line=39'>40</a>\u001b[0m     X_em \u001b[39m+\u001b[39m\u001b[39m=\u001b[39m [\u001b[39m0\u001b[39m \u001b[39mfor\u001b[39;00m i \u001b[39min\u001b[39;00m \u001b[39mrange\u001b[39m(N \u001b[39m-\u001b[39m \u001b[39mlen\u001b[39m(X_em))]\n\u001b[1;32m     <a href='vscode-notebook-cell:/Users/johnlee/Documents/Notre%20Dame/Schoolwork/Semester%207/SSA/Project/ito.ipynb#X14sZmlsZQ%3D%3D?line=40'>41</a>\u001b[0m     hit_zero \u001b[39m=\u001b[39m \u001b[39mTrue\u001b[39;00m\n",
      "\u001b[0;31mKeyboardInterrupt\u001b[0m: "
     ]
    }
   ],
   "source": [
    "dt = 2**(-4)\n",
    "\n",
    "# parameters\n",
    "F = 100\n",
    "sig_ln = 0.2\n",
    "T = 1\n",
    "K = 100\n",
    "alpha = 7\n",
    "\n",
    "sig = sigma(sig_ln, F, alpha)\n",
    "\n",
    "# Monte Carlo\n",
    "N = 1000000\n",
    "t = np.arange(dt, T + dt, dt)\n",
    "X_T = []\n",
    "counter = 0\n",
    "for i in range(N):\n",
    "    em, hit_zero = em_CEV(T, dt, F, alpha, sig)\n",
    "    if hit_zero:\n",
    "        continue\n",
    "    X_T.append(em[-1])\n",
    "    counter += 1\n",
    "    # plt.plot(t, em, alpha=0.5)\n",
    "    \n",
    "X_T = np.array(X_T)\n",
    "# compute inverse to get F\n",
    "F_T = F_Xinv(X_T, alpha, sig)\n",
    "# compute C by subtracting K and taking max. Anywhere less than K is 0, otherwise F - K\n",
    "C = np.where(F_T<K, 0, F_T-K)\n",
    "P = C - (F_T - K)\n",
    "# print(C)\n",
    "# print(C[np.argwhere(C).flatten()])\n",
    "print(f\"E[C] = {C.mean()}, STD[C] = {C.std()/(counter**(1/2))}\")\n",
    "print(f\"E[P] = {P.mean()}, STD[P] = {P.std()/(counter**(1/2))}\")\n",
    "# print(f\"Simulated Absorbed Ratio = {num_absorbed/N}\")\n",
    "# print(f\"Analytical Absorbed Ratio = {1-gammainc(-(delta(alpha)/2 - 1), X(F, alpha, sig)/(2*T))}\")\n",
    "# plt.ylim(0, 10)\n",
    "# plt.show()\n",
    "\n",
    "# plt.ylim(0, 10)\n",
    "# plt.show()"
   ]
  },
  {
   "cell_type": "code",
   "execution_count": 111,
   "metadata": {},
   "outputs": [],
   "source": [
    "# Local martingale for F_T\n",
    "\n",
    "def analytical_C_2(F, K,T, alpha, sig):\n",
    "    K_tilde = X(K,alpha, sig)\n",
    "    X0 = X(F,alpha, sig)\n",
    "    print(delta(alpha))\n",
    "    v = delta(alpha)/2 - 1\n",
    "    print(v)\n",
    "    F_T = F * (gammainc(v, X0/(2*T)))\n",
    "\n",
    "    X_T = X(F_T, alpha, sig)\n",
    "    print(F_T, X_T, X0)\n",
    "\n",
    "    C = F * (gammainc(v, X0/(2*T)) - stats.ncx2.cdf(x = X0/T, df = delta(alpha) - 2, nc = X0/T)) - K * stats.ncx2.cdf(x = K_tilde/T, df = delta(alpha),nc = X0/T)\n",
    "\n",
    "    print(C)\n",
    "    # C = np.where(C < 0, 0, C)\n",
    "    # C_idx = np.argwhere(C).flatten()\n",
    "    # print(C[C_idx].mean())\n",
    "    # print(C.mean())\n",
    "\n"
   ]
  },
  {
   "cell_type": "code",
   "execution_count": 125,
   "metadata": {},
   "outputs": [
    {
     "name": "stdout",
     "output_type": "stream",
     "text": [
      "2.1818181818181817\n",
      "0.09090909090909083\n",
      "93.62078925858074 1.7065513114087554 0.8264462809917357\n",
      "2.0604360207136097\n"
     ]
    }
   ],
   "source": [
    "F = 100\n",
    "sig_ln = 0.2\n",
    "T = 1\n",
    "K = 100\n",
    "alpha = 6.5\n",
    "sig = sigma(sig_ln, F, alpha)\n",
    "analytical_C_2(F, K, T, alpha, sig)"
   ]
  },
  {
   "cell_type": "code",
   "execution_count": 63,
   "metadata": {},
   "outputs": [
    {
     "data": {
      "text/plain": [
       "2.111111111111111"
      ]
     },
     "execution_count": 63,
     "metadata": {},
     "output_type": "execute_result"
    }
   ],
   "source": [
    "delta(10)"
   ]
  }
 ],
 "metadata": {
  "kernelspec": {
   "display_name": "School",
   "language": "python",
   "name": "python3"
  },
  "language_info": {
   "codemirror_mode": {
    "name": "ipython",
    "version": 3
   },
   "file_extension": ".py",
   "mimetype": "text/x-python",
   "name": "python",
   "nbconvert_exporter": "python",
   "pygments_lexer": "ipython3",
   "version": "3.8.13"
  },
  "orig_nbformat": 4
 },
 "nbformat": 4,
 "nbformat_minor": 2
}
